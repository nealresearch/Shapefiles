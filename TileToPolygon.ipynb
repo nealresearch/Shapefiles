{
 "cells": [
  {
   "cell_type": "code",
   "execution_count": null,
   "id": "aedf8f1e",
   "metadata": {},
   "outputs": [],
   "source": [
    "import pandas as pd\n",
    "import numpy as np\n",
    "import geopandas as gpd\n",
    "import laspy\n",
    "from geopandas import GeoDataFrame\n",
    "\n",
    "from shapely.geometry import Polygon\n",
    "import fiona\n",
    "import os\n",
    "\n",
    "#input path ofthe las tiles and also the output path to the shapefiles\n",
    "inPath = \"inpath\"\n",
    "outPath = \"outpath\"\n",
    "\n",
    "#Gets the filename inside the inPath folder\n",
    "fileName = os.listdir(inPath)\n",
    "\n",
    "for i in range(len(fileName)):\n",
    "    joinPath = os.path.join(inPath,fileName[i])\n",
    "    inFile = laspy.read (joinPath)\n",
    "    xmin = np.amin(inFile.x)\n",
    "    ymin = np.amin(inFile.y)\n",
    "    xmax = np.amax(inFile.x)\n",
    "    ymax = np.amax(inFile.y)\n",
    "    polygon_geom = Polygon(zip([xmin,xmax,xmax,xmin],[ymin, ymin, ymax, ymax]))\n",
    "    polygon = gpd.GeoDataFrame(index=[0], crs='epsg:25832', geometry=[polygon_geom])  \n",
    "\n",
    "    polygon.to_file(outPath + '{0}.shp'.format(fileName[i]))  \n"
   ]
  }
 ],
 "metadata": {
  "kernelspec": {
   "display_name": "Python 3",
   "language": "python",
   "name": "python3"
  },
  "language_info": {
   "codemirror_mode": {
    "name": "ipython",
    "version": 3
   },
   "file_extension": ".py",
   "mimetype": "text/x-python",
   "name": "python",
   "nbconvert_exporter": "python",
   "pygments_lexer": "ipython3",
   "version": "3.8.8"
  }
 },
 "nbformat": 4,
 "nbformat_minor": 5
}
